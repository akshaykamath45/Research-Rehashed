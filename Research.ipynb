{
 "cells": [
  {
   "cell_type": "code",
   "execution_count": 12,
   "id": "10584d41",
   "metadata": {},
   "outputs": [],
   "source": [
    "import pandas as pd\n",
    "import numpy as np\n",
    "import matplotlib.pyplot as plt\n",
    "import seaborn as sns\n",
    "from sklearn.model_selection import train_test_split\n",
    "from sklearn.preprocessing import StandardScaler\n",
    "from sklearn.ensemble import AdaBoostClassifier\n",
    "from sklearn.tree import DecisionTreeClassifier\n",
    "from sklearn.preprocessing import LabelEncoder\n",
    "from sklearn.metrics import accuracy_score, confusion_matrix\n",
    "from sklearn.model_selection import cross_val_score"
   ]
  },
  {
   "cell_type": "code",
   "execution_count": 3,
   "id": "aa23769b",
   "metadata": {},
   "outputs": [],
   "source": [
    "# loading data\n",
    "data=pd.read_csv('high_diamond_ranked_10min.csv')"
   ]
  },
  {
   "cell_type": "code",
   "execution_count": 4,
   "id": "6f07b891",
   "metadata": {},
   "outputs": [
    {
     "name": "stdout",
     "output_type": "stream",
     "text": [
      "<bound method NDFrame.head of           gameId  blueWins  blueWardsPlaced  blueWardsDestroyed  \\\n",
      "0     4519157822         0               28                   2   \n",
      "1     4523371949         0               12                   1   \n",
      "2     4521474530         0               15                   0   \n",
      "3     4524384067         0               43                   1   \n",
      "4     4436033771         0               75                   4   \n",
      "...          ...       ...              ...                 ...   \n",
      "9874  4527873286         1               17                   2   \n",
      "9875  4527797466         1               54                   0   \n",
      "9876  4527713716         0               23                   1   \n",
      "9877  4527628313         0               14                   4   \n",
      "9878  4523772935         1               18                   0   \n",
      "\n",
      "      blueFirstBlood  blueKills  blueDeaths  blueAssists  blueEliteMonsters  \\\n",
      "0                  1          9           6           11                  0   \n",
      "1                  0          5           5            5                  0   \n",
      "2                  0          7          11            4                  1   \n",
      "3                  0          4           5            5                  1   \n",
      "4                  0          6           6            6                  0   \n",
      "...              ...        ...         ...          ...                ...   \n",
      "9874               1          7           4            5                  1   \n",
      "9875               0          6           4            8                  1   \n",
      "9876               0          6           7            5                  0   \n",
      "9877               1          2           3            3                  1   \n",
      "9878               1          6           6            5                  0   \n",
      "\n",
      "      blueDragons  ...  redTowersDestroyed  redTotalGold  redAvgLevel  \\\n",
      "0               0  ...                   0         16567          6.8   \n",
      "1               0  ...                   1         17620          6.8   \n",
      "2               1  ...                   0         17285          6.8   \n",
      "3               0  ...                   0         16478          7.0   \n",
      "4               0  ...                   0         17404          7.0   \n",
      "...           ...  ...                 ...           ...          ...   \n",
      "9874            1  ...                   0         15246          6.8   \n",
      "9875            1  ...                   0         15456          7.0   \n",
      "9876            0  ...                   0         18319          7.4   \n",
      "9877            1  ...                   0         15298          7.2   \n",
      "9878            0  ...                   0         15339          6.8   \n",
      "\n",
      "      redTotalExperience  redTotalMinionsKilled  redTotalJungleMinionsKilled  \\\n",
      "0                  17047                    197                           55   \n",
      "1                  17438                    240                           52   \n",
      "2                  17254                    203                           28   \n",
      "3                  17961                    235                           47   \n",
      "4                  18313                    225                           67   \n",
      "...                  ...                    ...                          ...   \n",
      "9874               16498                    229                           34   \n",
      "9875               18367                    206                           56   \n",
      "9876               19909                    261                           60   \n",
      "9877               18314                    247                           40   \n",
      "9878               17379                    201                           46   \n",
      "\n",
      "      redGoldDiff  redExperienceDiff  redCSPerMin  redGoldPerMin  \n",
      "0            -643                  8         19.7         1656.7  \n",
      "1            2908               1173         24.0         1762.0  \n",
      "2            1172               1033         20.3         1728.5  \n",
      "3            1321                  7         23.5         1647.8  \n",
      "4            1004               -230         22.5         1740.4  \n",
      "...           ...                ...          ...            ...  \n",
      "9874        -2519              -2469         22.9         1524.6  \n",
      "9875         -782               -888         20.6         1545.6  \n",
      "9876         2416               1877         26.1         1831.9  \n",
      "9877          839               1085         24.7         1529.8  \n",
      "9878         -927                 58         20.1         1533.9  \n",
      "\n",
      "[9879 rows x 40 columns]>\n"
     ]
    }
   ],
   "source": [
    "print(data.head)"
   ]
  },
  {
   "cell_type": "markdown",
   "id": "a9da5174",
   "metadata": {},
   "source": [
    "Using Adaboost Model"
   ]
  },
  {
   "cell_type": "code",
   "execution_count": 20,
   "id": "40d1441d",
   "metadata": {},
   "outputs": [
    {
     "name": "stdout",
     "output_type": "stream",
     "text": [
      "Standardized Ratio: -0.0019232715861929345\n",
      "Cross-validation accuracy: 0.7207389971096646\n",
      "Training Accuracy: 0.7341515880045553\n",
      "Test Accuracy: 0.7267206477732794\n"
     ]
    },
    {
     "data": {
      "image/png": "[encoded data removed]",
      "text/plain": [
       "<Figure size 432x288 with 2 Axes>"
      ]
     },
     "metadata": {
      "needs_background": "light"
     },
     "output_type": "display_data"
    }
   ],
   "source": [
    "dataset=pd.read_csv('high_diamond_ranked_10min.csv')\n",
    "dataset = dataset.drop_duplicates()\n",
    "\n",
    "# assuming 'blueWins' is the target variable\n",
    "X = dataset.drop('blueWins', axis=1)\n",
    "y = dataset['blueWins']\n",
    "\n",
    "# standardizing features\n",
    "scaler = StandardScaler()\n",
    "X = scaler.fit_transform(X)\n",
    "\n",
    "blue_wins_count = np.sum(y == 1)\n",
    "red_wins_count = np.sum(y == 0)\n",
    "\n",
    "# calculating standardized ratio\n",
    "standardized_ratio = (blue_wins_count - red_wins_count) / (blue_wins_count + red_wins_count)\n",
    "print(\"Standardized Ratio:\", standardized_ratio)\n",
    "\n",
    "X_train, X_test, y_train, y_test = train_test_split(X, y, test_size=0.2, random_state=42)\n",
    "\n",
    "adaboost_model = AdaBoostClassifier(n_estimators=50, random_state=42)\n",
    "\n",
    "# cross validation\n",
    "cross_val_accuracy = cross_val_score(adaboost_model, X_train, y_train, cv=5, scoring='accuracy')\n",
    "print(\"Cross-validation accuracy:\", np.mean(cross_val_accuracy))\n",
    "\n",
    "adaboost_model.fit(X_train, y_train)\n",
    "\n",
    "y_pred_train = adaboost_model.predict(X_train)\n",
    "y_pred_test = adaboost_model.predict(X_test)\n",
    "\n",
    "# calculating accuracy\n",
    "accuracy_train = accuracy_score(y_train, y_pred_train)\n",
    "accuracy_test = accuracy_score(y_test, y_pred_test)\n",
    "print(\"Training Accuracy:\", accuracy_train)\n",
    "print(\"Test Accuracy:\", accuracy_test)\n",
    "\n",
    "# displaying confusion matrix\n",
    "conf_matrix = confusion_matrix(y_test, y_pred_test)\n",
    "sns.heatmap(conf_matrix, annot=True, fmt='d', cmap='Blues')\n",
    "plt.title(\"Confusion Matrix\")\n",
    "plt.xlabel(\"Predicted Label\")\n",
    "plt.ylabel(\"True Label\")\n",
    "plt.show()"
   ]
  },
  {
   "cell_type": "code",
   "execution_count": null,
   "id": "6c23505e",
   "metadata": {},
   "outputs": [],
   "source": []
  }
 ],
 "metadata": {
  "kernelspec": {
   "display_name": "Python 3 (ipykernel)",
   "language": "python",
   "name": "python3"
  },
  "language_info": {
   "codemirror_mode": {
    "name": "ipython",
    "version": 3
   },
   "file_extension": ".py",
   "mimetype": "text/x-python",
   "name": "python",
   "nbconvert_exporter": "python",
   "pygments_lexer": "ipython3",
   "version": "3.9.12"
  }
 },
 "nbformat": 4,
 "nbformat_minor": 5
}
